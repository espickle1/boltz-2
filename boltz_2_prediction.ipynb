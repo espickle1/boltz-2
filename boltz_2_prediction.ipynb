{
  "nbformat": 4,
  "nbformat_minor": 0,
  "metadata": {
    "colab": {
      "provenance": [],
      "machine_shape": "hm",
      "gpuType": "T4",
      "mount_file_id": "1japOw2aDMC44ejOvyRLAYyRdyFbVQNW1",
      "authorship_tag": "ABX9TyMaMfeVto20EkiYJtvaeGR1",
      "include_colab_link": true
    },
    "kernelspec": {
      "name": "python3",
      "display_name": "Python 3"
    },
    "language_info": {
      "name": "python"
    },
    "accelerator": "GPU"
  },
  "cells": [
    {
      "cell_type": "markdown",
      "metadata": {
        "id": "view-in-github",
        "colab_type": "text"
      },
      "source": [
        "<a href=\"https://colab.research.google.com/github/espickle1/boltz-2/blob/main/boltz_2_prediction.ipynb\" target=\"_parent\"><img src=\"https://colab.research.google.com/assets/colab-badge.svg\" alt=\"Open In Colab\"/></a>"
      ]
    },
    {
      "cell_type": "code",
      "execution_count": null,
      "metadata": {
        "id": "sskgJt1KsmmE"
      },
      "outputs": [],
      "source": [
        "!pip install boltz[cuda] -U"
      ]
    },
    {
      "cell_type": "code",
      "source": [
        "# Upload YAML(s) → enter a compact out_dir → run boltz predict with LIVE output\n",
        "!pip -q install ipywidgets\n",
        "from google.colab import output, files\n",
        "output.enable_custom_widget_manager()\n",
        "\n",
        "import ipywidgets as W\n",
        "from IPython.display import display, clear_output\n",
        "import os, shlex, subprocess, sys\n",
        "\n",
        "# 1) Upload local YAML(s)\n",
        "uploaded = files.upload()  # select one or more .yaml files\n",
        "\n",
        "# 2) Small out_dir input + Run button\n",
        "out_dir_txt = W.Text(\n",
        "    value=\"/content/boltz_results\",\n",
        "    description=\"out_dir:\",\n",
        "    layout=W.Layout(width=\"320px\")  # compact width\n",
        ")\n",
        "run_btn = W.Button(description=\"Run boltz\", button_style=\"success\")\n",
        "out = W.Output()\n",
        "\n",
        "def stream_cmd(cmd_list):\n",
        "    \"\"\"\n",
        "    Run a command and stream stdout+stderr line-by-line to the notebook output.\n",
        "    Returns the process return code.\n",
        "    \"\"\"\n",
        "    proc = subprocess.Popen(\n",
        "        cmd_list,\n",
        "        stdout=subprocess.PIPE,\n",
        "        stderr=subprocess.STDOUT,\n",
        "        text=True,            # decode to str\n",
        "        bufsize=1,            # line-buffered\n",
        "        universal_newlines=True\n",
        "    )\n",
        "    # Stream live\n",
        "    for line in proc.stdout:\n",
        "        print(line, end=\"\")   # do not silence, show as it comes\n",
        "        sys.stdout.flush()\n",
        "    return proc.wait()\n",
        "\n",
        "def on_run(_):\n",
        "    with out:\n",
        "        clear_output()\n",
        "        out_dir = (out_dir_txt.value or \"/content/boltz_results\").strip()\n",
        "        os.makedirs(out_dir, exist_ok=True)\n",
        "\n",
        "        for fname in uploaded.keys():\n",
        "            print(f\"\\n=== Running: boltz predict {fname} ===\")\n",
        "            cmd = [\n",
        "                \"boltz\", \"predict\",\n",
        "                fname,\n",
        "                \"--out_dir\", out_dir,\n",
        "                \"--use_msa_server\",\n",
        "            ]\n",
        "            # Show exact command\n",
        "            print(\"$\", \" \".join(shlex.quote(x) for x in cmd))\n",
        "            rc = stream_cmd(cmd)\n",
        "            print(f\"\\n[boltz exited with code {rc}]\")\n",
        "            if rc != 0:\n",
        "                print(\"⚠️ Command failed. Check the logs above.\")\n",
        "\n",
        "display(W.HBox([out_dir_txt, run_btn]))\n",
        "display(out)\n",
        "run_btn.on_click(on_run)\n"
      ],
      "metadata": {
        "id": "PNJHIAyrYw5G"
      },
      "execution_count": null,
      "outputs": []
    }
  ]
}