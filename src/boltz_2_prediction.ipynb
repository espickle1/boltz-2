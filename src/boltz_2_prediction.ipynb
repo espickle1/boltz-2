{
  "cells": [
    {
      "cell_type": "markdown",
      "metadata": {
        "id": "view-in-github",
        "colab_type": "text"
      },
      "source": [
        "<a href=\"https://colab.research.google.com/github/espickle1/boltz-2/blob/main/src/boltz_2_prediction.ipynb\" target=\"_parent\"><img src=\"https://colab.research.google.com/assets/colab-badge.svg\" alt=\"Open In Colab\"/></a>"
      ]
    },
    {
      "cell_type": "code",
      "execution_count": 1,
      "metadata": {
        "cellView": "form",
        "id": "OB4n632tDpKC"
      },
      "outputs": [],
      "source": [
        "#@title 1. Installing Boltz-2\n",
        "#@markdown **If the program wants a restart,\n",
        "#@markdown click on \"RESTART RUNTIME\" and let it restart. Move on to the next cell when restart is complete.\n",
        "%%capture\n",
        "!pip install boltz[cuda] -U"
      ]
    },
    {
      "cell_type": "code",
      "execution_count": 2,
      "metadata": {
        "id": "EfLvWPU7DsY4",
        "cellView": "form",
        "outputId": "196f9d28-fe99-4dc7-9dc4-fe5f159f0435",
        "colab": {
          "base_uri": "https://localhost:8080/"
        }
      },
      "outputs": [
        {
          "output_type": "stream",
          "name": "stdout",
          "text": [
            "\u001b[?25l   \u001b[90m━━━━━━━━━━━━━━━━━━━━━━━━━━━━━━━━━━━━━━━━\u001b[0m \u001b[32m0.0/1.6 MB\u001b[0m \u001b[31m?\u001b[0m eta \u001b[36m-:--:--\u001b[0m\r\u001b[2K   \u001b[91m━━━━━━━━━━━━━━━━━━━━━━━━━━━━━━━━━━━━━━━\u001b[0m\u001b[91m╸\u001b[0m \u001b[32m1.6/1.6 MB\u001b[0m \u001b[31m73.4 MB/s\u001b[0m eta \u001b[36m0:00:01\u001b[0m\r\u001b[2K   \u001b[90m━━━━━━━━━━━━━━━━━━━━━━━━━━━━━━━━━━━━━━━━\u001b[0m \u001b[32m1.6/1.6 MB\u001b[0m \u001b[31m44.4 MB/s\u001b[0m eta \u001b[36m0:00:00\u001b[0m\n",
            "\u001b[?25h"
          ]
        }
      ],
      "source": [
        "#@title 2. Import dependencies\n",
        "!pip -q install ipywidgets\n",
        "from google.colab import output, files\n",
        "output.enable_custom_widget_manager()\n",
        "\n",
        "import ipywidgets as W\n",
        "from IPython.display import display, clear_output\n",
        "import os, shlex, subprocess, sys, shutil, pathlib, time"
      ]
    },
    {
      "cell_type": "code",
      "execution_count": 11,
      "metadata": {
        "id": "Pn1B1Z-oDxb1",
        "outputId": "f80e5c68-7bc9-4c53-f215-09aac029c14f",
        "colab": {
          "base_uri": "https://localhost:8080/",
          "height": 90
        }
      },
      "outputs": [
        {
          "output_type": "stream",
          "name": "stdout",
          "text": [
            "Select and upload prediction YAML file:\n"
          ]
        },
        {
          "output_type": "display_data",
          "data": {
            "text/plain": [
              "<IPython.core.display.HTML object>"
            ],
            "text/html": [
              "\n",
              "     <input type=\"file\" id=\"files-e05d2b0a-5d80-4249-9831-814ef8fe7206\" name=\"files[]\" multiple disabled\n",
              "        style=\"border:none\" />\n",
              "     <output id=\"result-e05d2b0a-5d80-4249-9831-814ef8fe7206\">\n",
              "      Upload widget is only available when the cell has been executed in the\n",
              "      current browser session. Please rerun this cell to enable.\n",
              "      </output>\n",
              "      <script>// Copyright 2017 Google LLC\n",
              "//\n",
              "// Licensed under the Apache License, Version 2.0 (the \"License\");\n",
              "// you may not use this file except in compliance with the License.\n",
              "// You may obtain a copy of the License at\n",
              "//\n",
              "//      http://www.apache.org/licenses/LICENSE-2.0\n",
              "//\n",
              "// Unless required by applicable law or agreed to in writing, software\n",
              "// distributed under the License is distributed on an \"AS IS\" BASIS,\n",
              "// WITHOUT WARRANTIES OR CONDITIONS OF ANY KIND, either express or implied.\n",
              "// See the License for the specific language governing permissions and\n",
              "// limitations under the License.\n",
              "\n",
              "/**\n",
              " * @fileoverview Helpers for google.colab Python module.\n",
              " */\n",
              "(function(scope) {\n",
              "function span(text, styleAttributes = {}) {\n",
              "  const element = document.createElement('span');\n",
              "  element.textContent = text;\n",
              "  for (const key of Object.keys(styleAttributes)) {\n",
              "    element.style[key] = styleAttributes[key];\n",
              "  }\n",
              "  return element;\n",
              "}\n",
              "\n",
              "// Max number of bytes which will be uploaded at a time.\n",
              "const MAX_PAYLOAD_SIZE = 100 * 1024;\n",
              "\n",
              "function _uploadFiles(inputId, outputId) {\n",
              "  const steps = uploadFilesStep(inputId, outputId);\n",
              "  const outputElement = document.getElementById(outputId);\n",
              "  // Cache steps on the outputElement to make it available for the next call\n",
              "  // to uploadFilesContinue from Python.\n",
              "  outputElement.steps = steps;\n",
              "\n",
              "  return _uploadFilesContinue(outputId);\n",
              "}\n",
              "\n",
              "// This is roughly an async generator (not supported in the browser yet),\n",
              "// where there are multiple asynchronous steps and the Python side is going\n",
              "// to poll for completion of each step.\n",
              "// This uses a Promise to block the python side on completion of each step,\n",
              "// then passes the result of the previous step as the input to the next step.\n",
              "function _uploadFilesContinue(outputId) {\n",
              "  const outputElement = document.getElementById(outputId);\n",
              "  const steps = outputElement.steps;\n",
              "\n",
              "  const next = steps.next(outputElement.lastPromiseValue);\n",
              "  return Promise.resolve(next.value.promise).then((value) => {\n",
              "    // Cache the last promise value to make it available to the next\n",
              "    // step of the generator.\n",
              "    outputElement.lastPromiseValue = value;\n",
              "    return next.value.response;\n",
              "  });\n",
              "}\n",
              "\n",
              "/**\n",
              " * Generator function which is called between each async step of the upload\n",
              " * process.\n",
              " * @param {string} inputId Element ID of the input file picker element.\n",
              " * @param {string} outputId Element ID of the output display.\n",
              " * @return {!Iterable<!Object>} Iterable of next steps.\n",
              " */\n",
              "function* uploadFilesStep(inputId, outputId) {\n",
              "  const inputElement = document.getElementById(inputId);\n",
              "  inputElement.disabled = false;\n",
              "\n",
              "  const outputElement = document.getElementById(outputId);\n",
              "  outputElement.innerHTML = '';\n",
              "\n",
              "  const pickedPromise = new Promise((resolve) => {\n",
              "    inputElement.addEventListener('change', (e) => {\n",
              "      resolve(e.target.files);\n",
              "    });\n",
              "  });\n",
              "\n",
              "  const cancel = document.createElement('button');\n",
              "  inputElement.parentElement.appendChild(cancel);\n",
              "  cancel.textContent = 'Cancel upload';\n",
              "  const cancelPromise = new Promise((resolve) => {\n",
              "    cancel.onclick = () => {\n",
              "      resolve(null);\n",
              "    };\n",
              "  });\n",
              "\n",
              "  // Wait for the user to pick the files.\n",
              "  const files = yield {\n",
              "    promise: Promise.race([pickedPromise, cancelPromise]),\n",
              "    response: {\n",
              "      action: 'starting',\n",
              "    }\n",
              "  };\n",
              "\n",
              "  cancel.remove();\n",
              "\n",
              "  // Disable the input element since further picks are not allowed.\n",
              "  inputElement.disabled = true;\n",
              "\n",
              "  if (!files) {\n",
              "    return {\n",
              "      response: {\n",
              "        action: 'complete',\n",
              "      }\n",
              "    };\n",
              "  }\n",
              "\n",
              "  for (const file of files) {\n",
              "    const li = document.createElement('li');\n",
              "    li.append(span(file.name, {fontWeight: 'bold'}));\n",
              "    li.append(span(\n",
              "        `(${file.type || 'n/a'}) - ${file.size} bytes, ` +\n",
              "        `last modified: ${\n",
              "            file.lastModifiedDate ? file.lastModifiedDate.toLocaleDateString() :\n",
              "                                    'n/a'} - `));\n",
              "    const percent = span('0% done');\n",
              "    li.appendChild(percent);\n",
              "\n",
              "    outputElement.appendChild(li);\n",
              "\n",
              "    const fileDataPromise = new Promise((resolve) => {\n",
              "      const reader = new FileReader();\n",
              "      reader.onload = (e) => {\n",
              "        resolve(e.target.result);\n",
              "      };\n",
              "      reader.readAsArrayBuffer(file);\n",
              "    });\n",
              "    // Wait for the data to be ready.\n",
              "    let fileData = yield {\n",
              "      promise: fileDataPromise,\n",
              "      response: {\n",
              "        action: 'continue',\n",
              "      }\n",
              "    };\n",
              "\n",
              "    // Use a chunked sending to avoid message size limits. See b/62115660.\n",
              "    let position = 0;\n",
              "    do {\n",
              "      const length = Math.min(fileData.byteLength - position, MAX_PAYLOAD_SIZE);\n",
              "      const chunk = new Uint8Array(fileData, position, length);\n",
              "      position += length;\n",
              "\n",
              "      const base64 = btoa(String.fromCharCode.apply(null, chunk));\n",
              "      yield {\n",
              "        response: {\n",
              "          action: 'append',\n",
              "          file: file.name,\n",
              "          data: base64,\n",
              "        },\n",
              "      };\n",
              "\n",
              "      let percentDone = fileData.byteLength === 0 ?\n",
              "          100 :\n",
              "          Math.round((position / fileData.byteLength) * 100);\n",
              "      percent.textContent = `${percentDone}% done`;\n",
              "\n",
              "    } while (position < fileData.byteLength);\n",
              "  }\n",
              "\n",
              "  // All done.\n",
              "  yield {\n",
              "    response: {\n",
              "      action: 'complete',\n",
              "    }\n",
              "  };\n",
              "}\n",
              "\n",
              "scope.google = scope.google || {};\n",
              "scope.google.colab = scope.google.colab || {};\n",
              "scope.google.colab._files = {\n",
              "  _uploadFiles,\n",
              "  _uploadFilesContinue,\n",
              "};\n",
              "})(self);\n",
              "</script> "
            ]
          },
          "metadata": {}
        },
        {
          "output_type": "stream",
          "name": "stdout",
          "text": [
            "Saving t4_ev240_kdo3_template_affinity_v5.yaml to t4_ev240_kdo3_template_affinity_v5.yaml\n"
          ]
        }
      ],
      "source": [
        "#@title 3. Upload prediction inputs\n",
        "# 1) Upload local YAML(s)\n",
        "print(\"Select and upload prediction YAML file:\")\n",
        "uploaded = files.upload()  # select one or more .yaml/.yml files\n",
        "\n",
        "# 2) Small out_dir input + Run button\n",
        "out_dir_txt = W.Text(\n",
        "    value=\"/content/boltz_results\",\n",
        "    description=\"Output path:\",\n",
        "    layout=W.Layout(width=\"320px\")  # compact width\n",
        ")\n",
        "run_btn = W.Button(description=\"Run boltz\", button_style=\"success\")\n",
        "out = W.Output()\n"
      ]
    },
    {
      "cell_type": "code",
      "execution_count": 12,
      "metadata": {
        "id": "BvJwVIQ1D-Ob",
        "outputId": "42a43b6b-e49a-4312-ea4f-7b119432816a",
        "colab": {
          "base_uri": "https://localhost:8080/",
          "height": 1000,
          "referenced_widgets": [
            "7a304d4324e140ba8520fb3d86c09afe",
            "d3a84e4294844d689550cb3d8014ef08",
            "a8c22ec02ea540c2b1d5780fbf2fa583",
            "3be961f7ac6b4dd4a019e28a3be651b0",
            "3854d2690122427d8b872b2251eb994b",
            "237ba73001e04dd0b69d0d891a084732",
            "dcb60781ed5f41dbb0dbc2cf94f84126",
            "2d1d54b876cb4658aa129ef04913df39",
            "beeb5fa4504847359f77de7dbb3ef0ef",
            "cf7498c3ffb74e0a84560e86413e8018"
          ]
        }
      },
      "outputs": [
        {
          "output_type": "display_data",
          "data": {
            "text/plain": [
              "HBox(children=(Text(value='/content/boltz_results', description='Output path:', layout=Layout(width='320px')),…"
            ],
            "application/vnd.jupyter.widget-view+json": {
              "version_major": 2,
              "version_minor": 0,
              "model_id": "7a304d4324e140ba8520fb3d86c09afe"
            }
          },
          "metadata": {
            "application/vnd.jupyter.widget-view+json": {
              "colab": {
                "custom_widget_manager": {
                  "url": "https://ssl.gstatic.com/colaboratory-static/widgets/colab-cdn-widget-manager/2b70e893a8ba7c0f/manager.min.js"
                }
              }
            }
          }
        },
        {
          "output_type": "display_data",
          "data": {
            "text/plain": [
              "Output()"
            ],
            "application/vnd.jupyter.widget-view+json": {
              "version_major": 2,
              "version_minor": 0,
              "model_id": "beeb5fa4504847359f77de7dbb3ef0ef"
            }
          },
          "metadata": {
            "application/vnd.jupyter.widget-view+json": {
              "colab": {
                "custom_widget_manager": {
                  "url": "https://ssl.gstatic.com/colaboratory-static/widgets/colab-cdn-widget-manager/2b70e893a8ba7c0f/manager.min.js"
                }
              }
            }
          }
        }
      ],
      "source": [
        "#@title 4. Run Boltz-2 prediction\n",
        "def stream_cmd(cmd_list):\n",
        "    \"\"\"\n",
        "    Run a command and stream stdout+stderr line-by-line to the notebook output.\n",
        "    Returns the process return code.\n",
        "    \"\"\"\n",
        "    proc = subprocess.Popen(\n",
        "        cmd_list,\n",
        "        stdout=subprocess.PIPE,\n",
        "        stderr=subprocess.STDOUT,\n",
        "        text=True,\n",
        "        bufsize=1,\n",
        "        universal_newlines=True\n",
        "    )\n",
        "    for line in proc.stdout:\n",
        "        print(line, end=\"\")\n",
        "        sys.stdout.flush()\n",
        "    return proc.wait()\n",
        "\n",
        "def zip_and_download(run_dir: pathlib.Path):\n",
        "    \"\"\"\n",
        "    Zip the run_dir and trigger a download.\n",
        "    \"\"\"\n",
        "    run_dir = run_dir.resolve()\n",
        "    zip_base = str(run_dir)  # shutil.make_archive will add \".zip\"\n",
        "    zip_path = shutil.make_archive(zip_base, 'zip', root_dir=str(run_dir))\n",
        "    print(f\"\\nZipped results → {zip_path}\")\n",
        "    files.download(zip_path)\n",
        "\n",
        "def on_run(_):\n",
        "    with out:\n",
        "        clear_output()\n",
        "        base_out_dir = pathlib.Path((out_dir_txt.value or \"/content/boltz_results\").strip())\n",
        "        base_out_dir.mkdir(parents=True, exist_ok=True)\n",
        "\n",
        "        for fname in uploaded.keys():\n",
        "            yaml_path = pathlib.Path(fname).resolve()\n",
        "            run_name = yaml_path.stem  # folder named after the YAML file\n",
        "            run_dir = (base_out_dir / run_name)\n",
        "            run_dir.mkdir(parents=True, exist_ok=True)\n",
        "\n",
        "            print(f\"\\n=== Running: boltz predict on {yaml_path.name} ===\")\n",
        "            cmd = [\n",
        "                \"boltz\", \"predict\",\n",
        "                str(yaml_path),\n",
        "                \"--out_dir\", str(run_dir),\n",
        "                \"--use_msa_server\",\n",
        "                \"--recycling_steps\", \"12\",\n",
        "                \"--sampling_steps\", \"512\",\n",
        "                \"--diffusion_samples\", \"12\",\n",
        "                \"--step_scale\", \"1.5\",\n",
        "                \"--sampling_steps_affinity\", \"200\",\n",
        "                \"--diffusion_samples_affinity\", \"12\"\n",
        "            ]\n",
        "            print(\"$\", \" \".join(shlex.quote(x) for x in cmd))\n",
        "\n",
        "            rc = stream_cmd(cmd)\n",
        "            print(f\"\\n[boltz exited with code {rc}]\")\n",
        "            if rc != 0:\n",
        "                print(\"⚠️ Command failed. Not zipping/downloading this run.\")\n",
        "                continue\n",
        "\n",
        "            # Auto-zip and download this run's outputs\n",
        "            try:\n",
        "                # If tool writes asynchronously, tiny wait avoids missing files\n",
        "                time.sleep(0.5)\n",
        "                zip_and_download(run_dir)\n",
        "            except Exception as e:\n",
        "                print(f\"⚠️ Could not zip/download results: {e}\")\n",
        "\n",
        "display(W.HBox([out_dir_txt, run_btn]))\n",
        "display(out)\n",
        "run_btn.on_click(on_run)\n"
      ]
    }
  ],
  "metadata": {
    "accelerator": "GPU",
    "colab": {
      "gpuType": "A100",
      "provenance": [],
      "machine_shape": "hm",
      "authorship_tag": "ABX9TyNnmZQxS9sj/CQeHubmjvfj",
      "include_colab_link": true
    },
    "kernelspec": {
      "display_name": "Python 3",
      "name": "python3"
    },
    "language_info": {
      "name": "python"
    },
    "widgets": {
      "application/vnd.jupyter.widget-state+json": {
        "7a304d4324e140ba8520fb3d86c09afe": {
          "model_module": "@jupyter-widgets/controls",
          "model_name": "HBoxModel",
          "model_module_version": "1.5.0",
          "state": {
            "_dom_classes": [],
            "_model_module": "@jupyter-widgets/controls",
            "_model_module_version": "1.5.0",
            "_model_name": "HBoxModel",
            "_view_count": null,
            "_view_module": "@jupyter-widgets/controls",
            "_view_module_version": "1.5.0",
            "_view_name": "HBoxView",
            "box_style": "",
            "children": [
              "IPY_MODEL_d3a84e4294844d689550cb3d8014ef08",
              "IPY_MODEL_a8c22ec02ea540c2b1d5780fbf2fa583"
            ],
            "layout": "IPY_MODEL_3be961f7ac6b4dd4a019e28a3be651b0"
          }
        },
        "d3a84e4294844d689550cb3d8014ef08": {
          "model_module": "@jupyter-widgets/controls",
          "model_name": "TextModel",
          "model_module_version": "1.5.0",
          "state": {
            "_dom_classes": [],
            "_model_module": "@jupyter-widgets/controls",
            "_model_module_version": "1.5.0",
            "_model_name": "TextModel",
            "_view_count": null,
            "_view_module": "@jupyter-widgets/controls",
            "_view_module_version": "1.5.0",
            "_view_name": "TextView",
            "continuous_update": true,
            "description": "Output path:",
            "description_tooltip": null,
            "disabled": false,
            "layout": "IPY_MODEL_3854d2690122427d8b872b2251eb994b",
            "placeholder": "​",
            "style": "IPY_MODEL_237ba73001e04dd0b69d0d891a084732",
            "value": "/content/boltz_results"
          }
        },
        "a8c22ec02ea540c2b1d5780fbf2fa583": {
          "model_module": "@jupyter-widgets/controls",
          "model_name": "ButtonModel",
          "model_module_version": "1.5.0",
          "state": {
            "_dom_classes": [],
            "_model_module": "@jupyter-widgets/controls",
            "_model_module_version": "1.5.0",
            "_model_name": "ButtonModel",
            "_view_count": null,
            "_view_module": "@jupyter-widgets/controls",
            "_view_module_version": "1.5.0",
            "_view_name": "ButtonView",
            "button_style": "success",
            "description": "Run boltz",
            "disabled": false,
            "icon": "",
            "layout": "IPY_MODEL_dcb60781ed5f41dbb0dbc2cf94f84126",
            "style": "IPY_MODEL_2d1d54b876cb4658aa129ef04913df39",
            "tooltip": ""
          }
        },
        "3be961f7ac6b4dd4a019e28a3be651b0": {
          "model_module": "@jupyter-widgets/base",
          "model_name": "LayoutModel",
          "model_module_version": "1.2.0",
          "state": {
            "_model_module": "@jupyter-widgets/base",
            "_model_module_version": "1.2.0",
            "_model_name": "LayoutModel",
            "_view_count": null,
            "_view_module": "@jupyter-widgets/base",
            "_view_module_version": "1.2.0",
            "_view_name": "LayoutView",
            "align_content": null,
            "align_items": null,
            "align_self": null,
            "border": null,
            "bottom": null,
            "display": null,
            "flex": null,
            "flex_flow": null,
            "grid_area": null,
            "grid_auto_columns": null,
            "grid_auto_flow": null,
            "grid_auto_rows": null,
            "grid_column": null,
            "grid_gap": null,
            "grid_row": null,
            "grid_template_areas": null,
            "grid_template_columns": null,
            "grid_template_rows": null,
            "height": null,
            "justify_content": null,
            "justify_items": null,
            "left": null,
            "margin": null,
            "max_height": null,
            "max_width": null,
            "min_height": null,
            "min_width": null,
            "object_fit": null,
            "object_position": null,
            "order": null,
            "overflow": null,
            "overflow_x": null,
            "overflow_y": null,
            "padding": null,
            "right": null,
            "top": null,
            "visibility": null,
            "width": null
          }
        },
        "3854d2690122427d8b872b2251eb994b": {
          "model_module": "@jupyter-widgets/base",
          "model_name": "LayoutModel",
          "model_module_version": "1.2.0",
          "state": {
            "_model_module": "@jupyter-widgets/base",
            "_model_module_version": "1.2.0",
            "_model_name": "LayoutModel",
            "_view_count": null,
            "_view_module": "@jupyter-widgets/base",
            "_view_module_version": "1.2.0",
            "_view_name": "LayoutView",
            "align_content": null,
            "align_items": null,
            "align_self": null,
            "border": null,
            "bottom": null,
            "display": null,
            "flex": null,
            "flex_flow": null,
            "grid_area": null,
            "grid_auto_columns": null,
            "grid_auto_flow": null,
            "grid_auto_rows": null,
            "grid_column": null,
            "grid_gap": null,
            "grid_row": null,
            "grid_template_areas": null,
            "grid_template_columns": null,
            "grid_template_rows": null,
            "height": null,
            "justify_content": null,
            "justify_items": null,
            "left": null,
            "margin": null,
            "max_height": null,
            "max_width": null,
            "min_height": null,
            "min_width": null,
            "object_fit": null,
            "object_position": null,
            "order": null,
            "overflow": null,
            "overflow_x": null,
            "overflow_y": null,
            "padding": null,
            "right": null,
            "top": null,
            "visibility": null,
            "width": "320px"
          }
        },
        "237ba73001e04dd0b69d0d891a084732": {
          "model_module": "@jupyter-widgets/controls",
          "model_name": "DescriptionStyleModel",
          "model_module_version": "1.5.0",
          "state": {
            "_model_module": "@jupyter-widgets/controls",
            "_model_module_version": "1.5.0",
            "_model_name": "DescriptionStyleModel",
            "_view_count": null,
            "_view_module": "@jupyter-widgets/base",
            "_view_module_version": "1.2.0",
            "_view_name": "StyleView",
            "description_width": ""
          }
        },
        "dcb60781ed5f41dbb0dbc2cf94f84126": {
          "model_module": "@jupyter-widgets/base",
          "model_name": "LayoutModel",
          "model_module_version": "1.2.0",
          "state": {
            "_model_module": "@jupyter-widgets/base",
            "_model_module_version": "1.2.0",
            "_model_name": "LayoutModel",
            "_view_count": null,
            "_view_module": "@jupyter-widgets/base",
            "_view_module_version": "1.2.0",
            "_view_name": "LayoutView",
            "align_content": null,
            "align_items": null,
            "align_self": null,
            "border": null,
            "bottom": null,
            "display": null,
            "flex": null,
            "flex_flow": null,
            "grid_area": null,
            "grid_auto_columns": null,
            "grid_auto_flow": null,
            "grid_auto_rows": null,
            "grid_column": null,
            "grid_gap": null,
            "grid_row": null,
            "grid_template_areas": null,
            "grid_template_columns": null,
            "grid_template_rows": null,
            "height": null,
            "justify_content": null,
            "justify_items": null,
            "left": null,
            "margin": null,
            "max_height": null,
            "max_width": null,
            "min_height": null,
            "min_width": null,
            "object_fit": null,
            "object_position": null,
            "order": null,
            "overflow": null,
            "overflow_x": null,
            "overflow_y": null,
            "padding": null,
            "right": null,
            "top": null,
            "visibility": null,
            "width": null
          }
        },
        "2d1d54b876cb4658aa129ef04913df39": {
          "model_module": "@jupyter-widgets/controls",
          "model_name": "ButtonStyleModel",
          "model_module_version": "1.5.0",
          "state": {
            "_model_module": "@jupyter-widgets/controls",
            "_model_module_version": "1.5.0",
            "_model_name": "ButtonStyleModel",
            "_view_count": null,
            "_view_module": "@jupyter-widgets/base",
            "_view_module_version": "1.2.0",
            "_view_name": "StyleView",
            "button_color": null,
            "font_weight": ""
          }
        },
        "beeb5fa4504847359f77de7dbb3ef0ef": {
          "model_module": "@jupyter-widgets/output",
          "model_name": "OutputModel",
          "model_module_version": "1.0.0",
          "state": {
            "_dom_classes": [],
            "_model_module": "@jupyter-widgets/output",
            "_model_module_version": "1.0.0",
            "_model_name": "OutputModel",
            "_view_count": null,
            "_view_module": "@jupyter-widgets/output",
            "_view_module_version": "1.0.0",
            "_view_name": "OutputView",
            "layout": "IPY_MODEL_cf7498c3ffb74e0a84560e86413e8018",
            "msg_id": "",
            "outputs": [
              {
                "output_type": "stream",
                "name": "stdout",
                "text": [
                  "\n",
                  "=== Running: boltz predict on t4_ev240_kdo3_template_affinity_v5.yaml ===\n",
                  "$ boltz predict /content/t4_ev240_kdo3_template_affinity_v5.yaml --out_dir /content/boltz_results/t4_ev240_kdo3_template_affinity_v5 --use_msa_server --recycling_steps 12 --sampling_steps 512 --diffusion_samples 12 --step_scale 1.5 --sampling_steps_affinity 200 --diffusion_samples_affinity 12\n"
                ]
              },
              {
                "output_type": "stream",
                "name": "stdout",
                "text": [
                  "MSA server enabled: https://api.colabfold.com\n"
                ]
              },
              {
                "output_type": "stream",
                "name": "stdout",
                "text": [
                  "MSA server authentication: no credentials provided\n"
                ]
              },
              {
                "output_type": "stream",
                "name": "stdout",
                "text": [
                  "Checking input data.\n"
                ]
              },
              {
                "output_type": "stream",
                "name": "stdout",
                "text": [
                  "Processing 1 inputs with 1 threads.\n"
                ]
              },
              {
                "output_type": "stream",
                "name": "stdout",
                "text": [
                  "\n"
                ]
              },
              {
                "output_type": "stream",
                "name": "stdout",
                "text": [
                  "  0%|          | 0/1 [00:00<?, ?it/s]Generating MSA for /content/t4_ev240_kdo3_template_affinity_v5.yaml with 1 protein entities.\n"
                ]
              },
              {
                "output_type": "stream",
                "name": "stdout",
                "text": [
                  "Calling MSA server for target t4_ev240_kdo3_template_affinity_v5 with 1 sequences\n"
                ]
              },
              {
                "output_type": "stream",
                "name": "stdout",
                "text": [
                  "MSA server URL: https://api.colabfold.com\n"
                ]
              },
              {
                "output_type": "stream",
                "name": "stdout",
                "text": [
                  "MSA pairing strategy: greedy\n"
                ]
              },
              {
                "output_type": "stream",
                "name": "stdout",
                "text": [
                  "No authentication provided for MSA server\n"
                ]
              },
              {
                "output_type": "stream",
                "name": "stdout",
                "text": [
                  "\n"
                ]
              },
              {
                "output_type": "stream",
                "name": "stdout",
                "text": [
                  "\n"
                ]
              },
              {
                "output_type": "stream",
                "name": "stdout",
                "text": [
                  "  0%|          | 0/150 [elapsed: 00:00 remaining: ?]\u001b[A\n"
                ]
              },
              {
                "output_type": "stream",
                "name": "stdout",
                "text": [
                  "\n"
                ]
              },
              {
                "output_type": "stream",
                "name": "stdout",
                "text": [
                  "SUBMIT:   0%|          | 0/150 [elapsed: 00:00 remaining: ?]\u001b[A\n"
                ]
              },
              {
                "output_type": "stream",
                "name": "stdout",
                "text": [
                  "\n"
                ]
              },
              {
                "output_type": "stream",
                "name": "stdout",
                "text": [
                  "COMPLETE:   0%|          | 0/150 [elapsed: 00:00 remaining: ?]\u001b[A\n"
                ]
              },
              {
                "output_type": "stream",
                "name": "stdout",
                "text": [
                  "\n"
                ]
              },
              {
                "output_type": "stream",
                "name": "stdout",
                "text": [
                  "COMPLETE: 100%|██████████| 150/150 [elapsed: 00:00 remaining: 00:00]\u001b[A\n"
                ]
              },
              {
                "output_type": "stream",
                "name": "stdout",
                "text": [
                  "COMPLETE: 100%|██████████| 150/150 [elapsed: 00:01 remaining: 00:00]\n"
                ]
              },
              {
                "output_type": "stream",
                "name": "stdout",
                "text": [
                  "\n"
                ]
              },
              {
                "output_type": "stream",
                "name": "stdout",
                "text": [
                  "100%|██████████| 1/1 [00:03<00:00,  3.40s/it]\n"
                ]
              },
              {
                "output_type": "stream",
                "name": "stdout",
                "text": [
                  "100%|██████████| 1/1 [00:03<00:00,  3.40s/it]\n"
                ]
              },
              {
                "output_type": "stream",
                "name": "stdout",
                "text": [
                  "Using bfloat16 Automatic Mixed Precision (AMP)\n"
                ]
              },
              {
                "output_type": "stream",
                "name": "stdout",
                "text": [
                  "GPU available: True (cuda), used: True\n"
                ]
              },
              {
                "output_type": "stream",
                "name": "stdout",
                "text": [
                  "TPU available: False, using: 0 TPU cores\n"
                ]
              },
              {
                "output_type": "stream",
                "name": "stdout",
                "text": [
                  "HPU available: False, using: 0 HPUs\n"
                ]
              },
              {
                "output_type": "stream",
                "name": "stdout",
                "text": [
                  "Running structure prediction for 1 input.\n"
                ]
              },
              {
                "output_type": "stream",
                "name": "stdout",
                "text": [
                  "/usr/local/lib/python3.12/dist-packages/pytorch_lightning/utilities/migration/utils.py:56: The loaded checkpoint was produced with Lightning v2.5.0.post0, which is newer than your current Lightning version: v2.5.0\n"
                ]
              },
              {
                "output_type": "stream",
                "name": "stdout",
                "text": [
                  "You are using a CUDA device ('NVIDIA A100-SXM4-80GB') that has Tensor Cores. To properly utilize them, you should set `torch.set_float32_matmul_precision('medium' | 'high')` which will trade-off precision for performance. For more details, read https://pytorch.org/docs/stable/generated/torch.set_float32_matmul_precision.html#torch.set_float32_matmul_precision\n"
                ]
              },
              {
                "output_type": "stream",
                "name": "stdout",
                "text": [
                  "2025-10-03 17:29:52.296727: I tensorflow/core/util/port.cc:153] oneDNN custom operations are on. You may see slightly different numerical results due to floating-point round-off errors from different computation orders. To turn them off, set the environment variable `TF_ENABLE_ONEDNN_OPTS=0`.\n"
                ]
              },
              {
                "output_type": "stream",
                "name": "stdout",
                "text": [
                  "2025-10-03 17:29:52.313777: E external/local_xla/xla/stream_executor/cuda/cuda_fft.cc:467] Unable to register cuFFT factory: Attempting to register factory for plugin cuFFT when one has already been registered\n"
                ]
              },
              {
                "output_type": "stream",
                "name": "stdout",
                "text": [
                  "WARNING: All log messages before absl::InitializeLog() is called are written to STDERR\n"
                ]
              },
              {
                "output_type": "stream",
                "name": "stdout",
                "text": [
                  "E0000 00:00:1759512592.332520   15053 cuda_dnn.cc:8579] Unable to register cuDNN factory: Attempting to register factory for plugin cuDNN when one has already been registered\n"
                ]
              },
              {
                "output_type": "stream",
                "name": "stdout",
                "text": [
                  "E0000 00:00:1759512592.337982   15053 cuda_blas.cc:1407] Unable to register cuBLAS factory: Attempting to register factory for plugin cuBLAS when one has already been registered\n"
                ]
              },
              {
                "output_type": "stream",
                "name": "stdout",
                "text": [
                  "W0000 00:00:1759512592.352609   15053 computation_placer.cc:177] computation placer already registered. Please check linkage and avoid linking the same target more than once.\n"
                ]
              },
              {
                "output_type": "stream",
                "name": "stdout",
                "text": [
                  "W0000 00:00:1759512592.352629   15053 computation_placer.cc:177] computation placer already registered. Please check linkage and avoid linking the same target more than once.\n"
                ]
              },
              {
                "output_type": "stream",
                "name": "stdout",
                "text": [
                  "W0000 00:00:1759512592.352632   15053 computation_placer.cc:177] computation placer already registered. Please check linkage and avoid linking the same target more than once.\n"
                ]
              },
              {
                "output_type": "stream",
                "name": "stdout",
                "text": [
                  "W0000 00:00:1759512592.352633   15053 computation_placer.cc:177] computation placer already registered. Please check linkage and avoid linking the same target more than once.\n"
                ]
              },
              {
                "output_type": "stream",
                "name": "stdout",
                "text": [
                  "2025-10-03 17:29:52.357217: I tensorflow/core/platform/cpu_feature_guard.cc:210] This TensorFlow binary is optimized to use available CPU instructions in performance-critical operations.\n"
                ]
              },
              {
                "output_type": "stream",
                "name": "stdout",
                "text": [
                  "To enable the following instructions: AVX2 AVX512F AVX512_VNNI FMA, in other operations, rebuild TensorFlow with the appropriate compiler flags.\n"
                ]
              },
              {
                "output_type": "stream",
                "name": "stdout",
                "text": [
                  "LOCAL_RANK: 0 - CUDA_VISIBLE_DEVICES: [0]\n"
                ]
              },
              {
                "output_type": "stream",
                "name": "stdout",
                "text": [
                  "\n"
                ]
              },
              {
                "output_type": "stream",
                "name": "stdout",
                "text": [
                  "Predicting: |          | 0/? [00:00<?, ?it/s]\n"
                ]
              },
              {
                "output_type": "stream",
                "name": "stdout",
                "text": [
                  "Predicting:   0%|          | 0/1 [00:00<?, ?it/s]\n"
                ]
              },
              {
                "output_type": "stream",
                "name": "stdout",
                "text": [
                  "Predicting DataLoader 0:   0%|          | 0/1 [00:00<?, ?it/s]\n"
                ]
              },
              {
                "output_type": "stream",
                "name": "stdout",
                "text": [
                  "Predicting DataLoader 0: 100%|██████████| 1/1 [08:36<00:00,  0.00it/s]Number of failed examples: 0\n"
                ]
              },
              {
                "output_type": "stream",
                "name": "stdout",
                "text": [
                  "\n"
                ]
              },
              {
                "output_type": "stream",
                "name": "stdout",
                "text": [
                  "Predicting DataLoader 0: 100%|██████████| 1/1 [08:36<00:00,  0.00it/s]\n"
                ]
              },
              {
                "output_type": "stream",
                "name": "stdout",
                "text": [
                  "\n"
                ]
              },
              {
                "output_type": "stream",
                "name": "stdout",
                "text": [
                  "Predicting property: affinity\n"
                ]
              },
              {
                "output_type": "stream",
                "name": "stdout",
                "text": [
                  "\n"
                ]
              },
              {
                "output_type": "stream",
                "name": "stdout",
                "text": [
                  "Checking input data for affinity.\n"
                ]
              },
              {
                "output_type": "stream",
                "name": "stdout",
                "text": [
                  "Running affinity prediction for 1 input.\n"
                ]
              },
              {
                "output_type": "stream",
                "name": "stdout",
                "text": [
                  "/usr/local/lib/python3.12/dist-packages/pytorch_lightning/utilities/migration/utils.py:56: The loaded checkpoint was produced with Lightning v2.5.0.post0, which is newer than your current Lightning version: v2.5.0\n"
                ]
              },
              {
                "output_type": "stream",
                "name": "stdout",
                "text": [
                  "LOCAL_RANK: 0 - CUDA_VISIBLE_DEVICES: [0]\n"
                ]
              },
              {
                "output_type": "stream",
                "name": "stdout",
                "text": [
                  "\n"
                ]
              },
              {
                "output_type": "stream",
                "name": "stdout",
                "text": [
                  "Predicting: |          | 0/? [00:00<?, ?it/s]\n"
                ]
              },
              {
                "output_type": "stream",
                "name": "stdout",
                "text": [
                  "Predicting:   0%|          | 0/1 [00:00<?, ?it/s]\n"
                ]
              },
              {
                "output_type": "stream",
                "name": "stdout",
                "text": [
                  "Predicting DataLoader 0:   0%|          | 0/1 [00:00<?, ?it/s]\n"
                ]
              },
              {
                "output_type": "stream",
                "name": "stdout",
                "text": [
                  "Predicting DataLoader 0: 100%|██████████| 1/1 [00:37<00:00,  0.03it/s]Number of failed examples: 0\n"
                ]
              },
              {
                "output_type": "stream",
                "name": "stdout",
                "text": [
                  "\n"
                ]
              },
              {
                "output_type": "stream",
                "name": "stdout",
                "text": [
                  "Predicting DataLoader 0: 100%|██████████| 1/1 [00:37<00:00,  0.03it/s]\n"
                ]
              },
              {
                "output_type": "stream",
                "name": "stdout",
                "text": [
                  "\n",
                  "[boltz exited with code 0]\n"
                ]
              },
              {
                "output_type": "stream",
                "name": "stdout",
                "text": [
                  "\n",
                  "Zipped results → /content/boltz_results/t4_ev240_kdo3_template_affinity_v5.zip\n"
                ]
              },
              {
                "output_type": "display_data",
                "data": {
                  "text/plain": "<IPython.core.display.Javascript object>",
                  "application/javascript": "\n    async function download(id, filename, size) {\n      if (!google.colab.kernel.accessAllowed) {\n        return;\n      }\n      const div = document.createElement('div');\n      const label = document.createElement('label');\n      label.textContent = `Downloading \"${filename}\": `;\n      div.appendChild(label);\n      const progress = document.createElement('progress');\n      progress.max = size;\n      div.appendChild(progress);\n      document.body.appendChild(div);\n\n      const buffers = [];\n      let downloaded = 0;\n\n      const channel = await google.colab.kernel.comms.open(id);\n      // Send a message to notify the kernel that we're ready.\n      channel.send({})\n\n      for await (const message of channel.messages) {\n        // Send a message to notify the kernel that we're ready.\n        channel.send({})\n        if (message.buffers) {\n          for (const buffer of message.buffers) {\n            buffers.push(buffer);\n            downloaded += buffer.byteLength;\n            progress.value = downloaded;\n          }\n        }\n      }\n      const blob = new Blob(buffers, {type: 'application/binary'});\n      const a = document.createElement('a');\n      a.href = window.URL.createObjectURL(blob);\n      a.download = filename;\n      div.appendChild(a);\n      a.click();\n      div.remove();\n    }\n  "
                },
                "metadata": {}
              },
              {
                "output_type": "display_data",
                "data": {
                  "text/plain": "<IPython.core.display.Javascript object>",
                  "application/javascript": "download(\"download_7873334c-d337-45d3-a489-06276a3a678b\", \"t4_ev240_kdo3_template_affinity_v5.zip\", 64999482)"
                },
                "metadata": {}
              }
            ]
          }
        },
        "cf7498c3ffb74e0a84560e86413e8018": {
          "model_module": "@jupyter-widgets/base",
          "model_name": "LayoutModel",
          "model_module_version": "1.2.0",
          "state": {
            "_model_module": "@jupyter-widgets/base",
            "_model_module_version": "1.2.0",
            "_model_name": "LayoutModel",
            "_view_count": null,
            "_view_module": "@jupyter-widgets/base",
            "_view_module_version": "1.2.0",
            "_view_name": "LayoutView",
            "align_content": null,
            "align_items": null,
            "align_self": null,
            "border": null,
            "bottom": null,
            "display": null,
            "flex": null,
            "flex_flow": null,
            "grid_area": null,
            "grid_auto_columns": null,
            "grid_auto_flow": null,
            "grid_auto_rows": null,
            "grid_column": null,
            "grid_gap": null,
            "grid_row": null,
            "grid_template_areas": null,
            "grid_template_columns": null,
            "grid_template_rows": null,
            "height": null,
            "justify_content": null,
            "justify_items": null,
            "left": null,
            "margin": null,
            "max_height": null,
            "max_width": null,
            "min_height": null,
            "min_width": null,
            "object_fit": null,
            "object_position": null,
            "order": null,
            "overflow": null,
            "overflow_x": null,
            "overflow_y": null,
            "padding": null,
            "right": null,
            "top": null,
            "visibility": null,
            "width": null
          }
        }
      }
    }
  },
  "nbformat": 4,
  "nbformat_minor": 0
}