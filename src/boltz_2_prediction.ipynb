{
  "cells": [
    {
      "cell_type": "markdown",
      "metadata": {
        "id": "view-in-github",
        "colab_type": "text"
      },
      "source": [
        "<a href=\"https://colab.research.google.com/github/espickle1/boltz-2/blob/main/src/boltz_2_prediction.ipynb\" target=\"_parent\"><img src=\"https://colab.research.google.com/assets/colab-badge.svg\" alt=\"Open In Colab\"/></a>"
      ]
    },
    {
      "cell_type": "code",
      "execution_count": 1,
      "metadata": {
        "cellView": "form",
        "id": "OB4n632tDpKC"
      },
      "outputs": [],
      "source": [
        "#@title 1. Installing Boltz-2\n",
        "#@markdown **If the program wants a restart,\n",
        "#@markdown click on \"RESTART RUNTIME\" and let it restart. Move on to the next cell when restart is complete.\n",
        "%%capture\n",
        "!pip install boltz[cuda] -U"
      ]
    },
    {
      "cell_type": "code",
      "execution_count": null,
      "metadata": {
        "id": "EfLvWPU7DsY4"
      },
      "outputs": [],
      "source": [
        "#@title 2. Import dependencies\n",
        "!pip -q install ipywidgets\n",
        "from google.colab import output, files\n",
        "output.enable_custom_widget_manager()\n",
        "\n",
        "import ipywidgets as W\n",
        "from IPython.display import display, clear_output\n",
        "import os, shlex, subprocess, sys, shutil, pathlib, time"
      ]
    },
    {
      "cell_type": "code",
      "execution_count": null,
      "metadata": {
        "cellView": "form",
        "id": "Pn1B1Z-oDxb1"
      },
      "outputs": [],
      "source": [
        "#@title 3. Upload prediction inputs\n",
        "# 1) Upload local YAML(s)\n",
        "print(\"Select and upload prediction YAML file:\")\n",
        "uploaded = files.upload()  # select one or more .yaml/.yml files\n",
        "\n",
        "# 2) Small out_dir input + Run button\n",
        "out_dir_txt = W.Text(\n",
        "    value=\"/content/boltz_results\",\n",
        "    description=\"Output path:\",\n",
        "    layout=W.Layout(width=\"320px\")  # compact width\n",
        ")\n",
        "run_btn = W.Button(description=\"Run boltz\", button_style=\"success\")\n",
        "out = W.Output()\n"
      ]
    },
    {
      "cell_type": "code",
      "execution_count": null,
      "metadata": {
        "cellView": "form",
        "id": "BvJwVIQ1D-Ob"
      },
      "outputs": [],
      "source": [
        "#@title 4. Run Boltz-2 prediction\n",
        "def stream_cmd(cmd_list):\n",
        "    \"\"\"\n",
        "    Run a command and stream stdout+stderr line-by-line to the notebook output.\n",
        "    Returns the process return code.\n",
        "    \"\"\"\n",
        "    proc = subprocess.Popen(\n",
        "        cmd_list,\n",
        "        stdout=subprocess.PIPE,\n",
        "        stderr=subprocess.STDOUT,\n",
        "        text=True,\n",
        "        bufsize=1,\n",
        "        universal_newlines=True\n",
        "    )\n",
        "    for line in proc.stdout:\n",
        "        print(line, end=\"\")\n",
        "        sys.stdout.flush()\n",
        "    return proc.wait()\n",
        "\n",
        "def zip_and_download(run_dir: pathlib.Path):\n",
        "    \"\"\"\n",
        "    Zip the run_dir and trigger a download.\n",
        "    \"\"\"\n",
        "    run_dir = run_dir.resolve()\n",
        "    zip_base = str(run_dir)  # shutil.make_archive will add \".zip\"\n",
        "    zip_path = shutil.make_archive(zip_base, 'zip', root_dir=str(run_dir))\n",
        "    print(f\"\\nZipped results → {zip_path}\")\n",
        "    files.download(zip_path)\n",
        "\n",
        "def on_run(_):\n",
        "    with out:\n",
        "        clear_output()\n",
        "        base_out_dir = pathlib.Path((out_dir_txt.value or \"/content/boltz_results\").strip())\n",
        "        base_out_dir.mkdir(parents=True, exist_ok=True)\n",
        "\n",
        "        for fname in uploaded.keys():\n",
        "            yaml_path = pathlib.Path(fname).resolve()\n",
        "            run_name = yaml_path.stem  # folder named after the YAML file\n",
        "            run_dir = (base_out_dir / run_name)\n",
        "            run_dir.mkdir(parents=True, exist_ok=True)\n",
        "\n",
        "            print(f\"\\n=== Running: boltz predict on {yaml_path.name} ===\")\n",
        "            cmd = [\n",
        "                \"boltz\", \"predict\",\n",
        "                str(yaml_path),\n",
        "                \"--out_dir\", str(run_dir),\n",
        "                \"--use_msa_server\",\n",
        "                \"--recycling_steps\", \"8\",\n",
        "                \"--diffusion_samples\", \"5\"\n",
        "            ]\n",
        "            print(\"$\", \" \".join(shlex.quote(x) for x in cmd))\n",
        "\n",
        "            rc = stream_cmd(cmd)\n",
        "            print(f\"\\n[boltz exited with code {rc}]\")\n",
        "            if rc != 0:\n",
        "                print(\"⚠️ Command failed. Not zipping/downloading this run.\")\n",
        "                continue\n",
        "\n",
        "            # Auto-zip and download this run's outputs\n",
        "            try:\n",
        "                # If tool writes asynchronously, tiny wait avoids missing files\n",
        "                time.sleep(0.5)\n",
        "                zip_and_download(run_dir)\n",
        "            except Exception as e:\n",
        "                print(f\"⚠️ Could not zip/download results: {e}\")\n",
        "\n",
        "display(W.HBox([out_dir_txt, run_btn]))\n",
        "display(out)\n",
        "run_btn.on_click(on_run)\n"
      ]
    }
  ],
  "metadata": {
    "accelerator": "GPU",
    "colab": {
      "gpuType": "A100",
      "provenance": [],
      "authorship_tag": "ABX9TyNKECZlmRIjxe/UtlIyzvFM",
      "include_colab_link": true
    },
    "kernelspec": {
      "display_name": "Python 3",
      "name": "python3"
    },
    "language_info": {
      "name": "python"
    }
  },
  "nbformat": 4,
  "nbformat_minor": 0
}